{
 "cells": [
  {
   "cell_type": "markdown",
   "metadata": {},
   "source": [
    "[Documentação](https://console.bluemix.net/apidocs/visual-recognition)"
   ]
  },
  {
   "cell_type": "code",
   "execution_count": 1,
   "metadata": {},
   "outputs": [],
   "source": [
    "import json\n",
    "from watson_developer_cloud import VisualRecognitionV3\n",
    "import os"
   ]
  },
  {
   "cell_type": "code",
   "execution_count": 2,
   "metadata": {},
   "outputs": [],
   "source": [
    "apikey = os.environ['apikey']"
   ]
  },
  {
   "cell_type": "code",
   "execution_count": 3,
   "metadata": {},
   "outputs": [],
   "source": [
    "visual_recognition = VisualRecognitionV3(\n",
    "    '2018-03-19',\n",
    "    iam_apikey=apikey)"
   ]
  },
  {
   "cell_type": "markdown",
   "metadata": {},
   "source": [
    "# Treinando modelo customizado"
   ]
  },
  {
   "cell_type": "code",
   "execution_count": 13,
   "metadata": {},
   "outputs": [
    {
     "name": "stdout",
     "output_type": "stream",
     "text": [
      "{\n",
      "  \"classifier_id\": \"pictogramas_1565526360\",\n",
      "  \"name\": \"pictogramas\",\n",
      "  \"status\": \"training\",\n",
      "  \"owner\": \"9214992a-7691-4d57-9271-5165978c9684\",\n",
      "  \"created\": \"2018-12-05T23:59:25.379Z\",\n",
      "  \"updated\": \"2018-12-05T23:59:25.379Z\",\n",
      "  \"classes\": [\n",
      "    {\n",
      "      \"class\": \"avental\"\n",
      "    },\n",
      "    {\n",
      "      \"class\": \"peixes\"\n",
      "    },\n",
      "    {\n",
      "      \"class\": \"manoseio_liquido\"\n",
      "    },\n",
      "    {\n",
      "      \"class\": \"lavar_maos\"\n",
      "    },\n",
      "    {\n",
      "      \"class\": \"bone_arabe\"\n",
      "    },\n",
      "    {\n",
      "      \"class\": \"botas_borracha\"\n",
      "    },\n",
      "    {\n",
      "      \"class\": \"oculos\"\n",
      "    },\n",
      "    {\n",
      "      \"class\": \"animais\"\n",
      "    },\n",
      "    {\n",
      "      \"class\": \"cuidadoVeneno\"\n",
      "    },\n",
      "    {\n",
      "      \"class\": \"respirador\"\n",
      "    },\n",
      "    {\n",
      "      \"class\": \"local_trancado\"\n",
      "    },\n",
      "    {\n",
      "      \"class\": \"manoseio_solido\"\n",
      "    },\n",
      "    {\n",
      "      \"class\": \"macacao\"\n",
      "    },\n",
      "    {\n",
      "      \"class\": \"aplicacao_liquida\"\n",
      "    },\n",
      "    {\n",
      "      \"class\": \"luvas\"\n",
      "    }\n",
      "  ],\n",
      "  \"core_ml_enabled\": true\n",
      "}\n"
     ]
    }
   ],
   "source": [
    "with open('classes/cuidadoVeneno/cuidado.zip', 'rb') as cuidadoVeneno, \\\n",
    "open('classes/luvas/luvas.zip', 'rb') as luvas, \\\n",
    "open('classes/animais/animais.zip', 'rb') as animais, \\\n",
    "open('classes/aplicacao-liquida/aplicacao-liquida.zip', 'rb') as aplicacao_liquida, \\\n",
    "open('classes/avental/avental.zip', 'rb') as avental, \\\n",
    "open('classes/bone-arabe/bone_arabe.zip', 'rb') as bone_arabe, \\\n",
    "open('classes/botas-borracha/botas-borracha.zip', 'rb') as botas_borracha, \\\n",
    "open('classes/lavar-as-maos/lavar_maos.zip', 'rb') as lavar_maos, \\\n",
    "open('classes/local-trancado/local_trancado.zip', 'rb') as local_trancado, \\\n",
    "open('classes/macacao-impermeavel/macacao.zip', 'rb') as macacao, \\\n",
    "open('classes/manoseio-liquido/manoseio_liquido.zip', 'rb') as manoseio_liquido, \\\n",
    "open('classes/manoseio-solido/manoseio_solido.zip', 'rb') as manoseio_solido, \\\n",
    "open('classes/oculos/oculos.zip', 'rb') as oculos, \\\n",
    "open('classes/peixes/peixes.zip', 'rb') as peixes, \\\n",
    "open('classes/respirador/respirador.zip', 'rb') as respirador:\n",
    "    \n",
    "    model = visual_recognition.create_classifier(\n",
    "        'pictogramas',\n",
    "        cuidadoVeneno_positive_examples = cuidadoVeneno,\n",
    "        luvas_positive_examples = luvas,\n",
    "        animais_positive_examples=animais,\n",
    "        aplicacao_liquida_positive_examples=aplicacao_liquida,\n",
    "        avental_positive_examples=avental,\n",
    "        bone_arabe_positive_examples=bone_arabe,\n",
    "        botas_borracha_positive_examples=botas_borracha,\n",
    "        lavar_maos_positive_examples=lavar_maos,\n",
    "        local_trancado_positive_examples=local_trancado,\n",
    "        macacao_positive_examples=macacao,\n",
    "        manoseio_liquido_positive_examples=manoseio_liquido,\n",
    "        manoseio_solido_positive_examples=manoseio_solido,\n",
    "        oculos_positive_examples=oculos,\n",
    "        peixes_positive_examples=peixes,\n",
    "        respirador_positive_examples=respirador).get_result()\n",
    "    \n",
    "print(json.dumps(model, indent=2))"
   ]
  },
  {
   "cell_type": "code",
   "execution_count": 4,
   "metadata": {},
   "outputs": [
    {
     "name": "stdout",
     "output_type": "stream",
     "text": [
      "{\n",
      "  \"classifiers\": [\n",
      "    {\n",
      "      \"classifier_id\": \"pictogramas_1565526360\",\n",
      "      \"name\": \"pictogramas\",\n",
      "      \"status\": \"ready\",\n",
      "      \"owner\": \"9214992a-7691-4d57-9271-5165978c9684\",\n",
      "      \"created\": \"2018-12-05T23:59:25.379Z\",\n",
      "      \"updated\": \"2018-12-05T23:59:25.379Z\",\n",
      "      \"classes\": [\n",
      "        {\n",
      "          \"class\": \"avental\"\n",
      "        },\n",
      "        {\n",
      "          \"class\": \"peixes\"\n",
      "        },\n",
      "        {\n",
      "          \"class\": \"manoseio_liquido\"\n",
      "        },\n",
      "        {\n",
      "          \"class\": \"lavar_maos\"\n",
      "        },\n",
      "        {\n",
      "          \"class\": \"bone_arabe\"\n",
      "        },\n",
      "        {\n",
      "          \"class\": \"botas_borracha\"\n",
      "        },\n",
      "        {\n",
      "          \"class\": \"oculos\"\n",
      "        },\n",
      "        {\n",
      "          \"class\": \"animais\"\n",
      "        },\n",
      "        {\n",
      "          \"class\": \"cuidadoVeneno\"\n",
      "        },\n",
      "        {\n",
      "          \"class\": \"respirador\"\n",
      "        },\n",
      "        {\n",
      "          \"class\": \"local_trancado\"\n",
      "        },\n",
      "        {\n",
      "          \"class\": \"manoseio_solido\"\n",
      "        },\n",
      "        {\n",
      "          \"class\": \"macacao\"\n",
      "        },\n",
      "        {\n",
      "          \"class\": \"aplicacao_liquida\"\n",
      "        },\n",
      "        {\n",
      "          \"class\": \"luvas\"\n",
      "        }\n",
      "      ],\n",
      "      \"core_ml_enabled\": true\n",
      "    }\n",
      "  ]\n",
      "}\n"
     ]
    }
   ],
   "source": [
    "classifiers = visual_recognition.list_classifiers(verbose=True).get_result()\n",
    "print(json.dumps(classifiers, indent=2))"
   ]
  },
  {
   "cell_type": "code",
   "execution_count": 4,
   "metadata": {},
   "outputs": [],
   "source": [
    "#visual_recognition.delete_classifier('pictogramas_318619730')"
   ]
  },
  {
   "cell_type": "markdown",
   "metadata": {},
   "source": [
    "# Testando o modelo"
   ]
  },
  {
   "cell_type": "markdown",
   "metadata": {},
   "source": [
    "<img src='classes/imagensTeste/1.jpg'>"
   ]
  },
  {
   "cell_type": "code",
   "execution_count": 6,
   "metadata": {},
   "outputs": [
    {
     "name": "stdout",
     "output_type": "stream",
     "text": [
      "{\n",
      "  \"images\": [\n",
      "    {\n",
      "      \"classifiers\": [\n",
      "        {\n",
      "          \"classifier_id\": \"pictogramas_1565526360\",\n",
      "          \"name\": \"pictogramas\",\n",
      "          \"classes\": [\n",
      "            {\n",
      "              \"class\": \"cuidadoVeneno\",\n",
      "              \"score\": 0.949\n",
      "            }\n",
      "          ]\n",
      "        }\n",
      "      ],\n",
      "      \"image\": \"1.jpg\"\n",
      "    }\n",
      "  ],\n",
      "  \"images_processed\": 1,\n",
      "  \"custom_classes\": 15\n",
      "}\n"
     ]
    }
   ],
   "source": [
    "# testando, classificando imagens\n",
    "with open('classes/imagensTeste/1.jpg', 'rb') as images_file:\n",
    "    classes = visual_recognition.classify(\n",
    "        images_file,\n",
    "        threshold='0.05',\n",
    "        owners=[\"me\"],\n",
    "        classifier_ids=[\"pictogramas_1565526360\"]).get_result()\n",
    "    print(json.dumps(classes, indent=2))"
   ]
  },
  {
   "cell_type": "markdown",
   "metadata": {},
   "source": [
    "<img src='classes/imagensTeste/2.jpg'>"
   ]
  },
  {
   "cell_type": "code",
   "execution_count": 8,
   "metadata": {},
   "outputs": [
    {
     "name": "stdout",
     "output_type": "stream",
     "text": [
      "{\n",
      "  \"images\": [\n",
      "    {\n",
      "      \"classifiers\": [\n",
      "        {\n",
      "          \"classifier_id\": \"pictogramas_1565526360\",\n",
      "          \"name\": \"pictogramas\",\n",
      "          \"classes\": [\n",
      "            {\n",
      "              \"class\": \"local_trancado\",\n",
      "              \"score\": 0.939\n",
      "            }\n",
      "          ]\n",
      "        }\n",
      "      ],\n",
      "      \"image\": \"2.jpg\"\n",
      "    }\n",
      "  ],\n",
      "  \"images_processed\": 1,\n",
      "  \"custom_classes\": 15\n",
      "}\n"
     ]
    }
   ],
   "source": [
    "with open('classes/imagensTeste/2.jpg', 'rb') as images_file:\n",
    "    classes = visual_recognition.classify(\n",
    "        images_file,\n",
    "        threshold='0.5',\n",
    "        owners=[\"me\"],\n",
    "        classifier_ids=[\"pictogramas_1565526360\"]).get_result()\n",
    "    print(json.dumps(classes, indent=2))"
   ]
  },
  {
   "cell_type": "markdown",
   "metadata": {},
   "source": [
    "<img src='classes/imagensTeste/6.png'>"
   ]
  },
  {
   "cell_type": "code",
   "execution_count": 10,
   "metadata": {},
   "outputs": [
    {
     "name": "stdout",
     "output_type": "stream",
     "text": [
      "{\n",
      "  \"images\": [\n",
      "    {\n",
      "      \"classifiers\": [\n",
      "        {\n",
      "          \"classifier_id\": \"pictogramas_1565526360\",\n",
      "          \"name\": \"pictogramas\",\n",
      "          \"classes\": [\n",
      "            {\n",
      "              \"class\": \"luvas\",\n",
      "              \"score\": 0.937\n",
      "            }\n",
      "          ]\n",
      "        }\n",
      "      ],\n",
      "      \"image\": \"6.png\"\n",
      "    }\n",
      "  ],\n",
      "  \"images_processed\": 1,\n",
      "  \"custom_classes\": 15\n",
      "}\n"
     ]
    }
   ],
   "source": [
    "with open('classes/imagensTeste/6.png', 'rb') as images_file:\n",
    "    classes = visual_recognition.classify(\n",
    "        images_file,\n",
    "        threshold='0.5',\n",
    "        owners=[\"me\"],\n",
    "        classifier_ids=[\"pictogramas_1565526360\"]).get_result()\n",
    "    print(json.dumps(classes, indent=2))"
   ]
  },
  {
   "cell_type": "markdown",
   "metadata": {},
   "source": [
    "<img src='classes/imagensTeste/7.png'>"
   ]
  },
  {
   "cell_type": "code",
   "execution_count": 13,
   "metadata": {},
   "outputs": [
    {
     "name": "stdout",
     "output_type": "stream",
     "text": [
      "{\n",
      "  \"images\": [\n",
      "    {\n",
      "      \"classifiers\": [\n",
      "        {\n",
      "          \"classifier_id\": \"pictogramas_1565526360\",\n",
      "          \"name\": \"pictogramas\",\n",
      "          \"classes\": [\n",
      "            {\n",
      "              \"class\": \"avental\",\n",
      "              \"score\": 0.926\n",
      "            }\n",
      "          ]\n",
      "        }\n",
      "      ],\n",
      "      \"image\": \"7.png\"\n",
      "    }\n",
      "  ],\n",
      "  \"images_processed\": 1,\n",
      "  \"custom_classes\": 15\n",
      "}\n"
     ]
    }
   ],
   "source": [
    "with open('classes/imagensTeste/7.png', 'rb') as images_file:\n",
    "    classes = visual_recognition.classify(\n",
    "        images_file,\n",
    "        threshold='0.5',\n",
    "        owners=[\"me\"],\n",
    "        classifier_ids=[\"pictogramas_1565526360\"]).get_result()\n",
    "    print(json.dumps(classes, indent=2))"
   ]
  },
  {
   "cell_type": "markdown",
   "metadata": {},
   "source": [
    "<img src='classes/imagensTeste/8.jpg'>"
   ]
  },
  {
   "cell_type": "code",
   "execution_count": 16,
   "metadata": {},
   "outputs": [
    {
     "name": "stdout",
     "output_type": "stream",
     "text": [
      "{\n",
      "  \"images\": [\n",
      "    {\n",
      "      \"classifiers\": [\n",
      "        {\n",
      "          \"classifier_id\": \"pictogramas_1565526360\",\n",
      "          \"name\": \"pictogramas\",\n",
      "          \"classes\": [\n",
      "            {\n",
      "              \"class\": \"macacao\",\n",
      "              \"score\": 0.825\n",
      "            }\n",
      "          ]\n",
      "        }\n",
      "      ],\n",
      "      \"image\": \"8.jpg\"\n",
      "    }\n",
      "  ],\n",
      "  \"images_processed\": 1,\n",
      "  \"custom_classes\": 15\n",
      "}\n"
     ]
    }
   ],
   "source": [
    "with open('classes/imagensTeste/8.jpg', 'rb') as images_file:\n",
    "    classes = visual_recognition.classify(\n",
    "        images_file,\n",
    "        threshold='0.5',\n",
    "        owners=[\"me\"],\n",
    "        classifier_ids=[\"pictogramas_1565526360\"]).get_result()\n",
    "    print(json.dumps(classes, indent=2))"
   ]
  },
  {
   "cell_type": "markdown",
   "metadata": {},
   "source": [
    "<img src='classes/imagensTeste/9.jpg'>"
   ]
  },
  {
   "cell_type": "code",
   "execution_count": 18,
   "metadata": {},
   "outputs": [
    {
     "name": "stdout",
     "output_type": "stream",
     "text": [
      "{\n",
      "  \"images\": [\n",
      "    {\n",
      "      \"classifiers\": [\n",
      "        {\n",
      "          \"classifier_id\": \"pictogramas_1565526360\",\n",
      "          \"name\": \"pictogramas\",\n",
      "          \"classes\": [\n",
      "            {\n",
      "              \"class\": \"botas_borracha\",\n",
      "              \"score\": 0.943\n",
      "            }\n",
      "          ]\n",
      "        }\n",
      "      ],\n",
      "      \"image\": \"9.jpg\"\n",
      "    }\n",
      "  ],\n",
      "  \"images_processed\": 1,\n",
      "  \"custom_classes\": 15\n",
      "}\n"
     ]
    }
   ],
   "source": [
    "with open('classes/imagensTeste/9.jpg', 'rb') as images_file:\n",
    "    classes = visual_recognition.classify(\n",
    "        images_file,\n",
    "        threshold='0.5',\n",
    "        owners=[\"me\"],\n",
    "        classifier_ids=[\"pictogramas_1565526360\"]).get_result()\n",
    "    print(json.dumps(classes, indent=2))"
   ]
  },
  {
   "cell_type": "markdown",
   "metadata": {},
   "source": [
    "<img src='classes/imagensTeste/10.jpg'>"
   ]
  },
  {
   "cell_type": "code",
   "execution_count": 19,
   "metadata": {},
   "outputs": [
    {
     "name": "stdout",
     "output_type": "stream",
     "text": [
      "{\n",
      "  \"images\": [\n",
      "    {\n",
      "      \"classifiers\": [\n",
      "        {\n",
      "          \"classifier_id\": \"pictogramas_1565526360\",\n",
      "          \"name\": \"pictogramas\",\n",
      "          \"classes\": [\n",
      "            {\n",
      "              \"class\": \"respirador\",\n",
      "              \"score\": 0.933\n",
      "            }\n",
      "          ]\n",
      "        }\n",
      "      ],\n",
      "      \"image\": \"10.jpg\"\n",
      "    }\n",
      "  ],\n",
      "  \"images_processed\": 1,\n",
      "  \"custom_classes\": 15\n",
      "}\n"
     ]
    }
   ],
   "source": [
    "with open('classes/imagensTeste/10.jpg', 'rb') as images_file:\n",
    "    classes = visual_recognition.classify(\n",
    "        images_file,\n",
    "        threshold='0.5',\n",
    "        owners=[\"me\"],\n",
    "        classifier_ids=[\"pictogramas_1565526360\"]).get_result()\n",
    "    print(json.dumps(classes, indent=2))"
   ]
  },
  {
   "cell_type": "markdown",
   "metadata": {},
   "source": [
    "<img src='classes/imagensTeste/11.jpg'>"
   ]
  },
  {
   "cell_type": "code",
   "execution_count": 21,
   "metadata": {},
   "outputs": [
    {
     "name": "stdout",
     "output_type": "stream",
     "text": [
      "{\n",
      "  \"images\": [\n",
      "    {\n",
      "      \"classifiers\": [\n",
      "        {\n",
      "          \"classifier_id\": \"pictogramas_1565526360\",\n",
      "          \"name\": \"pictogramas\",\n",
      "          \"classes\": [\n",
      "            {\n",
      "              \"class\": \"oculos\",\n",
      "              \"score\": 0.95\n",
      "            }\n",
      "          ]\n",
      "        }\n",
      "      ],\n",
      "      \"image\": \"11.jpg\"\n",
      "    }\n",
      "  ],\n",
      "  \"images_processed\": 1,\n",
      "  \"custom_classes\": 15\n",
      "}\n"
     ]
    }
   ],
   "source": [
    "with open('classes/imagensTeste/11.jpg', 'rb') as images_file:\n",
    "    classes = visual_recognition.classify(\n",
    "        images_file,\n",
    "        threshold='0.5',\n",
    "        owners=[\"me\"],\n",
    "        classifier_ids=[\"pictogramas_1565526360\"]).get_result()\n",
    "    print(json.dumps(classes, indent=2))"
   ]
  },
  {
   "cell_type": "markdown",
   "metadata": {},
   "source": [
    "<img src='classes/imagensTeste/12.jpg'>"
   ]
  },
  {
   "cell_type": "code",
   "execution_count": 22,
   "metadata": {},
   "outputs": [
    {
     "name": "stdout",
     "output_type": "stream",
     "text": [
      "{\n",
      "  \"images\": [\n",
      "    {\n",
      "      \"classifiers\": [\n",
      "        {\n",
      "          \"classifier_id\": \"pictogramas_1565526360\",\n",
      "          \"name\": \"pictogramas\",\n",
      "          \"classes\": [\n",
      "            {\n",
      "              \"class\": \"luvas\",\n",
      "              \"score\": 0.947\n",
      "            }\n",
      "          ]\n",
      "        }\n",
      "      ],\n",
      "      \"image\": \"12.jpg\"\n",
      "    }\n",
      "  ],\n",
      "  \"images_processed\": 1,\n",
      "  \"custom_classes\": 15\n",
      "}\n"
     ]
    }
   ],
   "source": [
    "with open('classes/imagensTeste/12.jpg', 'rb') as images_file:\n",
    "    classes = visual_recognition.classify(\n",
    "        images_file,\n",
    "        threshold='0.5',\n",
    "        owners=[\"me\"],\n",
    "        classifier_ids=[\"pictogramas_1565526360\"]).get_result()\n",
    "    print(json.dumps(classes, indent=2))"
   ]
  },
  {
   "cell_type": "markdown",
   "metadata": {},
   "source": [
    "<img src='classes/imagensTeste/13.jpg'>"
   ]
  },
  {
   "cell_type": "code",
   "execution_count": 24,
   "metadata": {},
   "outputs": [
    {
     "name": "stdout",
     "output_type": "stream",
     "text": [
      "{\n",
      "  \"images\": [\n",
      "    {\n",
      "      \"classifiers\": [\n",
      "        {\n",
      "          \"classifier_id\": \"pictogramas_1565526360\",\n",
      "          \"name\": \"pictogramas\",\n",
      "          \"classes\": [\n",
      "            {\n",
      "              \"class\": \"manoseio_solido\",\n",
      "              \"score\": 0.828\n",
      "            }\n",
      "          ]\n",
      "        }\n",
      "      ],\n",
      "      \"image\": \"13.jpg\"\n",
      "    }\n",
      "  ],\n",
      "  \"images_processed\": 1,\n",
      "  \"custom_classes\": 15\n",
      "}\n"
     ]
    }
   ],
   "source": [
    "with open('classes/imagensTeste/13.jpg', 'rb') as images_file:\n",
    "    classes = visual_recognition.classify(\n",
    "        images_file,\n",
    "        threshold='0.5',\n",
    "        owners=[\"me\"],\n",
    "        classifier_ids=[\"pictogramas_1565526360\"]).get_result()\n",
    "    print(json.dumps(classes, indent=2))"
   ]
  },
  {
   "cell_type": "markdown",
   "metadata": {},
   "source": [
    "<img src='classes/imagensTeste/14.jpg'>"
   ]
  },
  {
   "cell_type": "code",
   "execution_count": 26,
   "metadata": {},
   "outputs": [
    {
     "name": "stdout",
     "output_type": "stream",
     "text": [
      "{\n",
      "  \"images\": [\n",
      "    {\n",
      "      \"classifiers\": [\n",
      "        {\n",
      "          \"classifier_id\": \"pictogramas_1565526360\",\n",
      "          \"name\": \"pictogramas\",\n",
      "          \"classes\": [\n",
      "            {\n",
      "              \"class\": \"cuidadoVeneno\",\n",
      "              \"score\": 0.944\n",
      "            }\n",
      "          ]\n",
      "        }\n",
      "      ],\n",
      "      \"image\": \"14.jpg\"\n",
      "    }\n",
      "  ],\n",
      "  \"images_processed\": 1,\n",
      "  \"custom_classes\": 15\n",
      "}\n"
     ]
    }
   ],
   "source": [
    "with open('classes/imagensTeste/14.jpg', 'rb') as images_file:\n",
    "    classes = visual_recognition.classify(\n",
    "        images_file,\n",
    "        threshold='0.5',\n",
    "        owners=[\"me\"],\n",
    "        classifier_ids=[\"pictogramas_1565526360\"]).get_result()\n",
    "    print(json.dumps(classes, indent=2))"
   ]
  },
  {
   "cell_type": "markdown",
   "metadata": {},
   "source": [
    "<img src='classes/imagensTeste/15.jpg'>"
   ]
  },
  {
   "cell_type": "code",
   "execution_count": 28,
   "metadata": {},
   "outputs": [
    {
     "name": "stdout",
     "output_type": "stream",
     "text": [
      "{\n",
      "  \"images\": [\n",
      "    {\n",
      "      \"classifiers\": [\n",
      "        {\n",
      "          \"classifier_id\": \"pictogramas_1565526360\",\n",
      "          \"name\": \"pictogramas\",\n",
      "          \"classes\": [\n",
      "            {\n",
      "              \"class\": \"aplicacao_liquida\",\n",
      "              \"score\": 0.937\n",
      "            }\n",
      "          ]\n",
      "        }\n",
      "      ],\n",
      "      \"image\": \"15.jpg\"\n",
      "    }\n",
      "  ],\n",
      "  \"images_processed\": 1,\n",
      "  \"custom_classes\": 15\n",
      "}\n"
     ]
    }
   ],
   "source": [
    "with open('classes/imagensTeste/15.jpg', 'rb') as images_file:\n",
    "    classes = visual_recognition.classify(\n",
    "        images_file,\n",
    "        threshold='0.5',\n",
    "        owners=[\"me\"],\n",
    "        classifier_ids=[\"pictogramas_1565526360\"]).get_result()\n",
    "    print(json.dumps(classes, indent=2))"
   ]
  },
  {
   "cell_type": "markdown",
   "metadata": {},
   "source": [
    "<img src='classes/imagensTeste/16.jpg'>"
   ]
  },
  {
   "cell_type": "code",
   "execution_count": 29,
   "metadata": {},
   "outputs": [
    {
     "name": "stdout",
     "output_type": "stream",
     "text": [
      "{\n",
      "  \"images\": [\n",
      "    {\n",
      "      \"classifiers\": [\n",
      "        {\n",
      "          \"classifier_id\": \"pictogramas_1565526360\",\n",
      "          \"name\": \"pictogramas\",\n",
      "          \"classes\": [\n",
      "            {\n",
      "              \"class\": \"bone_arabe\",\n",
      "              \"score\": 0.945\n",
      "            }\n",
      "          ]\n",
      "        }\n",
      "      ],\n",
      "      \"image\": \"16.jpg\"\n",
      "    }\n",
      "  ],\n",
      "  \"images_processed\": 1,\n",
      "  \"custom_classes\": 15\n",
      "}\n"
     ]
    }
   ],
   "source": [
    "with open('classes/imagensTeste/16.jpg', 'rb') as images_file:\n",
    "    classes = visual_recognition.classify(\n",
    "        images_file,\n",
    "        threshold='0.5',\n",
    "        owners=[\"me\"],\n",
    "        classifier_ids=[\"pictogramas_1565526360\"]).get_result()\n",
    "    print(json.dumps(classes, indent=2))"
   ]
  },
  {
   "cell_type": "markdown",
   "metadata": {},
   "source": [
    "<img src='classes/imagensTeste/17.jpg'>"
   ]
  },
  {
   "cell_type": "code",
   "execution_count": 30,
   "metadata": {},
   "outputs": [
    {
     "name": "stdout",
     "output_type": "stream",
     "text": [
      "{\n",
      "  \"images\": [\n",
      "    {\n",
      "      \"classifiers\": [\n",
      "        {\n",
      "          \"classifier_id\": \"pictogramas_1565526360\",\n",
      "          \"name\": \"pictogramas\",\n",
      "          \"classes\": [\n",
      "            {\n",
      "              \"class\": \"lavar_maos\",\n",
      "              \"score\": 0.948\n",
      "            }\n",
      "          ]\n",
      "        }\n",
      "      ],\n",
      "      \"image\": \"17.jpg\"\n",
      "    }\n",
      "  ],\n",
      "  \"images_processed\": 1,\n",
      "  \"custom_classes\": 15\n",
      "}\n"
     ]
    }
   ],
   "source": [
    "with open('classes/imagensTeste/17.jpg', 'rb') as images_file:\n",
    "    classes = visual_recognition.classify(\n",
    "        images_file,\n",
    "        threshold='0.5',\n",
    "        owners=[\"me\"],\n",
    "        classifier_ids=[\"pictogramas_1565526360\"]).get_result()\n",
    "    print(json.dumps(classes, indent=2))"
   ]
  },
  {
   "cell_type": "markdown",
   "metadata": {},
   "source": [
    "<img src='classes/imagensTeste/18.jpg'>"
   ]
  },
  {
   "cell_type": "code",
   "execution_count": 31,
   "metadata": {},
   "outputs": [
    {
     "name": "stdout",
     "output_type": "stream",
     "text": [
      "{\n",
      "  \"images\": [\n",
      "    {\n",
      "      \"classifiers\": [\n",
      "        {\n",
      "          \"classifier_id\": \"pictogramas_1565526360\",\n",
      "          \"name\": \"pictogramas\",\n",
      "          \"classes\": [\n",
      "            {\n",
      "              \"class\": \"animais\",\n",
      "              \"score\": 0.941\n",
      "            }\n",
      "          ]\n",
      "        }\n",
      "      ],\n",
      "      \"image\": \"18.jpg\"\n",
      "    }\n",
      "  ],\n",
      "  \"images_processed\": 1,\n",
      "  \"custom_classes\": 15\n",
      "}\n"
     ]
    }
   ],
   "source": [
    "with open('classes/imagensTeste/18.jpg', 'rb') as images_file:\n",
    "    classes = visual_recognition.classify(\n",
    "        images_file,\n",
    "        threshold='0.5',\n",
    "        owners=[\"me\"],\n",
    "        classifier_ids=[\"pictogramas_1565526360\"]).get_result()\n",
    "    print(json.dumps(classes, indent=2))"
   ]
  },
  {
   "cell_type": "markdown",
   "metadata": {},
   "source": [
    "<img src='classes/imagensTeste/19.jpg'>"
   ]
  },
  {
   "cell_type": "code",
   "execution_count": 32,
   "metadata": {},
   "outputs": [
    {
     "name": "stdout",
     "output_type": "stream",
     "text": [
      "{\n",
      "  \"images\": [\n",
      "    {\n",
      "      \"classifiers\": [\n",
      "        {\n",
      "          \"classifier_id\": \"pictogramas_1565526360\",\n",
      "          \"name\": \"pictogramas\",\n",
      "          \"classes\": [\n",
      "            {\n",
      "              \"class\": \"peixes\",\n",
      "              \"score\": 0.922\n",
      "            }\n",
      "          ]\n",
      "        }\n",
      "      ],\n",
      "      \"image\": \"19.jpg\"\n",
      "    }\n",
      "  ],\n",
      "  \"images_processed\": 1,\n",
      "  \"custom_classes\": 15\n",
      "}\n"
     ]
    }
   ],
   "source": [
    "with open('classes/imagensTeste/19.jpg', 'rb') as images_file:\n",
    "    classes = visual_recognition.classify(\n",
    "        images_file,\n",
    "        threshold='0.5',\n",
    "        owners=[\"me\"],\n",
    "        classifier_ids=[\"pictogramas_1565526360\"]).get_result()\n",
    "    print(json.dumps(classes, indent=2))"
   ]
  }
 ],
 "metadata": {
  "kernelspec": {
   "display_name": "Python 3",
   "language": "python",
   "name": "python3"
  },
  "language_info": {
   "codemirror_mode": {
    "name": "ipython",
    "version": 3
   },
   "file_extension": ".py",
   "mimetype": "text/x-python",
   "name": "python",
   "nbconvert_exporter": "python",
   "pygments_lexer": "ipython3",
   "version": "3.6.7"
  }
 },
 "nbformat": 4,
 "nbformat_minor": 2
}
